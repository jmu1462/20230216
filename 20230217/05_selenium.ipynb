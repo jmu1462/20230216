{
 "cells": [
  {
   "cell_type": "markdown",
   "id": "03fff3b4",
   "metadata": {},
   "source": [
    "### selenium\n",
    "- `https://www.selenium.dev`\n",
    "- 자동화를 목적으로 만들어진 다양한 브라우져와 언어를 지원하는 라이브러리\n",
    "- 크롬 브라우져 설치\n",
    "    - 크롬 브라우져 드라이버 다운로드 (크롬 브라우져와 같은 버전)\n",
    "    - 다운로드한 드라이버 압축 해제\n",
    "    - chromedriver, chromedriver.exe 생성\n",
    "    - windows : 주피터 노트북 파일과 동일한 디렉토리에 chromedriver.exe 파일 업로드\n",
    "    - mac : sudo cp ~/Download/chromedirver /usr/local/bin"
   ]
  },
  {
   "cell_type": "code",
   "execution_count": 1,
   "id": "a6e6bc99",
   "metadata": {},
   "outputs": [],
   "source": [
    "import pandas as pd\n",
    "from selenium import webdriver\n",
    "from selenium.webdriver.common.by import By"
   ]
  },
  {
   "cell_type": "code",
   "execution_count": 2,
   "id": "03115741-3e1a-4a29-8b4f-e9d5eaa4c339",
   "metadata": {},
   "outputs": [],
   "source": [
    "driver = webdriver.Chrome()"
   ]
  },
  {
   "cell_type": "code",
   "execution_count": 3,
   "id": "bb39db1e-dc6e-49bf-8e7b-197f250fd3df",
   "metadata": {},
   "outputs": [],
   "source": [
    "driver.get('https://daum.net')"
   ]
  },
  {
   "cell_type": "code",
   "execution_count": 4,
   "id": "22f8799e-57c9-4df2-bfef-1fd25936a1f1",
   "metadata": {},
   "outputs": [],
   "source": [
    "driver.find_element(By.CSS_SELECTOR, '#q').send_keys('파이썬')"
   ]
  },
  {
   "cell_type": "code",
   "execution_count": 9,
   "id": "3c7add9e-06ab-4d48-bc1b-3be83a4e61a3",
   "metadata": {},
   "outputs": [],
   "source": [
    "#daumSearch > fieldset > div > div > button.ico_pctop.btn_search\n",
    "selector = '.inner_search > .ico_pctop.btn_search' \n",
    "driver.find_element(By.CSS_SELECTOR, selector).click() #화면에 없는 부분에 클릭 이벤트를 발생시키려하면 실행 안됨"
   ]
  },
  {
   "cell_type": "code",
   "execution_count": 10,
   "id": "1763e6f2-6757-4e5b-a23d-0fd5b66e40af",
   "metadata": {},
   "outputs": [
    {
     "data": {
      "text/plain": [
       "20"
      ]
     },
     "execution_count": 10,
     "metadata": {},
     "output_type": "execute_result"
    }
   ],
   "source": [
    "selector = '#netizen_lists_top > .wsn' \n",
    "elements = driver.find_elements(By.CSS_SELECTOR, selector) \n",
    "len(elements)"
   ]
  },
  {
   "cell_type": "code",
   "execution_count": 16,
   "id": "74fafc0a-96c3-4a6f-9f1f-a86f42036c9b",
   "metadata": {},
   "outputs": [],
   "source": [
    "selector = '#netizen_more_btn_top' \n",
    "driver.find_element(By.CSS_SELECTOR, selector).click()"
   ]
  },
  {
   "cell_type": "code",
   "execution_count": 17,
   "id": "1360303f-4d02-4bab-a237-b66610ecf96c",
   "metadata": {},
   "outputs": [
    {
     "data": {
      "text/plain": [
       "['파이썬 프로그래밍',\n",
       " '파이썬 강좌',\n",
       " '파이썬 기초',\n",
       " '파이썬 뱀',\n",
       " '파이썬 책',\n",
       " '파이썬 코딩',\n",
       " '파이썬 자격증',\n",
       " '파이썬 다운로드',\n",
       " '파이썬 맵',\n",
       " '파이썬 설치',\n",
       " '파이썬 엑셀',\n",
       " 'python',\n",
       " '파이썬 활용',\n",
       " '파이썬 주식',\n",
       " '파이썬 학원',\n",
       " '파일썬',\n",
       " '파이썬 강의',\n",
       " '자바',\n",
       " '파이썬 코드',\n",
       " '파이썬 나무위키']"
      ]
     },
     "execution_count": 17,
     "metadata": {},
     "output_type": "execute_result"
    }
   ],
   "source": [
    "keywords = [element.text for element in elements] \n",
    "keywords"
   ]
  },
  {
   "cell_type": "code",
   "execution_count": 18,
   "id": "5ed790cf-fbfc-4b77-ab00-94828a24be7e",
   "metadata": {},
   "outputs": [],
   "source": [
    "#자바 스크립트 코드 실행\n",
    "driver.execute_script('window.scrollTo(200,300);')"
   ]
  },
  {
   "cell_type": "code",
   "execution_count": 19,
   "id": "c8aafc70-aabb-4676-a3b3-8353e8e8c173",
   "metadata": {},
   "outputs": [],
   "source": [
    "driver.quit()"
   ]
  },
  {
   "cell_type": "code",
   "execution_count": null,
   "id": "f320b744-fc9c-4e6e-8b65-c134ba75f3fb",
   "metadata": {},
   "outputs": [],
   "source": []
  },
  {
   "cell_type": "markdown",
   "id": "c4c13a78",
   "metadata": {},
   "source": [
    "#### 텍스트 데이터 가져오기\n",
    "- TED 사이트 : `https://www.ted.com`"
   ]
  },
  {
   "cell_type": "code",
   "execution_count": 20,
   "id": "39e30c91",
   "metadata": {},
   "outputs": [],
   "source": [
    "driver = webdriver.Chrome()\n",
    "driver.get('https://www.ted.com/talks')"
   ]
  },
  {
   "cell_type": "code",
   "execution_count": 21,
   "id": "239bce3d-5564-441e-a2a3-123fbf407843",
   "metadata": {},
   "outputs": [
    {
     "data": {
      "text/plain": [
       "'4200+ talks to stir your curiosity'"
      ]
     },
     "execution_count": 21,
     "metadata": {},
     "output_type": "execute_result"
    }
   ],
   "source": [
    "selector = '.talks-header__title'\n",
    "driver.find_element(By.CSS_SELECTOR, selector).text"
   ]
  },
  {
   "cell_type": "code",
   "execution_count": null,
   "id": "5c8f6fe7-1bad-40a2-a25d-776044692cf6",
   "metadata": {},
   "outputs": [],
   "source": [
    "#xpat를 이용한 엘리먼트 선택\n",
    "#//*[@id=\"shoji\"]/div[2]/div/div[2]/header/div/div[1]\n",
    "# //:최상위 엘리먼트\n",
    "# * : 모든 하위 엘리먼트\n",
    "# [@id=\"shoji\"] : 속성값으로 엘리먼트 선택\n",
    "# / : 한단계 하위 엘리먼트\n",
    "# div[2] : 태그[n번째]"
   ]
  },
  {
   "cell_type": "code",
   "execution_count": 22,
   "id": "f5a6f379-90c5-4af5-a17d-b75583bab7b6",
   "metadata": {},
   "outputs": [
    {
     "data": {
      "text/plain": [
       "'4200+ talks to stir your curiosity'"
      ]
     },
     "execution_count": 22,
     "metadata": {},
     "output_type": "execute_result"
    }
   ],
   "source": [
    "selector = '//*[@id=\"shoji\"]/div[2]/div/div[2]/header/div/div[1]'\n",
    "driver.find_element(By.XPATH, selector).text"
   ]
  },
  {
   "cell_type": "code",
   "execution_count": 23,
   "id": "a24941f6-367c-43dd-8122-d7871e1b9be0",
   "metadata": {},
   "outputs": [],
   "source": [
    "driver.quit()"
   ]
  },
  {
   "cell_type": "code",
   "execution_count": null,
   "id": "0665ac1e-5e44-4ef9-8fa6-b23de7353b51",
   "metadata": {},
   "outputs": [],
   "source": []
  },
  {
   "cell_type": "markdown",
   "id": "152eda00",
   "metadata": {},
   "source": [
    "#### Headless\n",
    "- 브라우져를 화면에 띄우지 않고 메모리상에서만 올려서 크롤링하는 방법 \n",
    "- window가 지원되지 않는 환경에서 사용이 가능\n",
    "- chrome version 60.0.0.0 이상부터 지원 합니다."
   ]
  },
  {
   "cell_type": "code",
   "execution_count": 24,
   "id": "ec5daf36",
   "metadata": {},
   "outputs": [
    {
     "data": {
      "text/plain": [
       "'4200+ talks to stir your curiosity'"
      ]
     },
     "execution_count": 24,
     "metadata": {},
     "output_type": "execute_result"
    }
   ],
   "source": [
    "options = webdriver.ChromeOptions()\n",
    "options.add_argument('headless')\n",
    "driver = webdriver.Chrome()\n",
    "driver.get('https://www.ted.com/talks')\n",
    "selector = '.talks-header__title'\n",
    "driver.find_element(By.CSS_SELECTOR, selector).text"
   ]
  },
  {
   "cell_type": "code",
   "execution_count": 25,
   "id": "5fac9c1b-dfbe-44dd-9d2a-3d6cfd9f668f",
   "metadata": {},
   "outputs": [],
   "source": [
    "driver.quit()"
   ]
  }
 ],
 "metadata": {
  "kernelspec": {
   "display_name": "Python 3 (ipykernel)",
   "language": "python",
   "name": "python3"
  },
  "language_info": {
   "codemirror_mode": {
    "name": "ipython",
    "version": 3
   },
   "file_extension": ".py",
   "mimetype": "text/x-python",
   "name": "python",
   "nbconvert_exporter": "python",
   "pygments_lexer": "ipython3",
   "version": "3.9.13"
  },
  "toc": {
   "base_numbering": 1,
   "nav_menu": {},
   "number_sections": false,
   "sideBar": true,
   "skip_h1_title": false,
   "title_cell": "Table of Contents",
   "title_sidebar": "Contents",
   "toc_cell": false,
   "toc_position": {},
   "toc_section_display": true,
   "toc_window_display": false
  }
 },
 "nbformat": 4,
 "nbformat_minor": 5
}
