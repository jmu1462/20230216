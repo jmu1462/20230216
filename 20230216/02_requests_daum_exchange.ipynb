{
 "cells": [
  {
   "attachments": {},
   "cell_type": "markdown",
   "id": "ce44dd79",
   "metadata": {},
   "source": [
    "### Daum Exchange\n",
    "- `https://finance.daum.net`\n",
    "- 서버에서 레퍼러, 에이전트를 사용하여 어뷰징을 막는 경우 해결 방법"
   ]
  },
  {
   "cell_type": "code",
   "execution_count": 1,
   "id": "bcf5c3fb",
   "metadata": {},
   "outputs": [],
   "source": [
    "import warnings\n",
    "warnings.filterwarnings('ignore')\n",
    "import pandas as pd\n",
    "import requests"
   ]
  },
  {
   "cell_type": "code",
   "execution_count": 19,
   "id": "8a6a4d5f",
   "metadata": {},
   "outputs": [
    {
     "data": {
      "text/html": [
       "<div>\n",
       "<style scoped>\n",
       "    .dataframe tbody tr th:only-of-type {\n",
       "        vertical-align: middle;\n",
       "    }\n",
       "\n",
       "    .dataframe tbody tr th {\n",
       "        vertical-align: top;\n",
       "    }\n",
       "\n",
       "    .dataframe thead th {\n",
       "        text-align: right;\n",
       "    }\n",
       "</style>\n",
       "<table border=\"1\" class=\"dataframe\">\n",
       "  <thead>\n",
       "    <tr style=\"text-align: right;\">\n",
       "      <th></th>\n",
       "      <th>symbolCode</th>\n",
       "      <th>date</th>\n",
       "      <th>currencyCode</th>\n",
       "      <th>currencyName</th>\n",
       "      <th>currencyUnit</th>\n",
       "      <th>country</th>\n",
       "      <th>region</th>\n",
       "      <th>name</th>\n",
       "      <th>recurrenceCount</th>\n",
       "      <th>basePrice</th>\n",
       "      <th>...</th>\n",
       "      <th>changeRate</th>\n",
       "      <th>cashBuyingPrice</th>\n",
       "      <th>cashSellingPrice</th>\n",
       "      <th>ttBuyingPrice</th>\n",
       "      <th>ttSellingPrice</th>\n",
       "      <th>tcBuyingPrice</th>\n",
       "      <th>fcSellingPrice</th>\n",
       "      <th>exchangeCommission</th>\n",
       "      <th>usDollarRate</th>\n",
       "      <th>chartImageUrl</th>\n",
       "    </tr>\n",
       "  </thead>\n",
       "  <tbody>\n",
       "    <tr>\n",
       "      <th>40</th>\n",
       "      <td>FRX.KRWQAR</td>\n",
       "      <td>2023-02-16 15:09:53</td>\n",
       "      <td>QAR</td>\n",
       "      <td>리얄</td>\n",
       "      <td>1</td>\n",
       "      <td>카타르</td>\n",
       "      <td>{'korName': '중동', 'engName': 'Middle East'}</td>\n",
       "      <td>카타르 (KRW/QAR)</td>\n",
       "      <td>526</td>\n",
       "      <td>352.01</td>\n",
       "      <td>...</td>\n",
       "      <td>0.002324</td>\n",
       "      <td>0.0</td>\n",
       "      <td>0.0</td>\n",
       "      <td>0.00</td>\n",
       "      <td>0.00</td>\n",
       "      <td>None</td>\n",
       "      <td>None</td>\n",
       "      <td>3.355</td>\n",
       "      <td>0.2742</td>\n",
       "      <td>{'day': 'https://t1.daumcdn.net/finance/chart/...</td>\n",
       "    </tr>\n",
       "    <tr>\n",
       "      <th>41</th>\n",
       "      <td>FRX.KRWTRY</td>\n",
       "      <td>2023-02-16 15:09:53</td>\n",
       "      <td>TRY</td>\n",
       "      <td>리라</td>\n",
       "      <td>1</td>\n",
       "      <td>터키</td>\n",
       "      <td>{'korName': '중동', 'engName': 'Middle East'}</td>\n",
       "      <td>터키 (KRW/TRY)</td>\n",
       "      <td>526</td>\n",
       "      <td>68.12</td>\n",
       "      <td>...</td>\n",
       "      <td>0.002197</td>\n",
       "      <td>0.0</td>\n",
       "      <td>0.0</td>\n",
       "      <td>67.38</td>\n",
       "      <td>68.86</td>\n",
       "      <td>None</td>\n",
       "      <td>None</td>\n",
       "      <td>26.400</td>\n",
       "      <td>0.0531</td>\n",
       "      <td>{'day': 'https://t1.daumcdn.net/finance/chart/...</td>\n",
       "    </tr>\n",
       "  </tbody>\n",
       "</table>\n",
       "<p>2 rows × 22 columns</p>\n",
       "</div>"
      ],
      "text/plain": [
       "    symbolCode                 date currencyCode currencyName  currencyUnit  \\\n",
       "40  FRX.KRWQAR  2023-02-16 15:09:53          QAR           리얄             1   \n",
       "41  FRX.KRWTRY  2023-02-16 15:09:53          TRY           리라             1   \n",
       "\n",
       "   country                                       region           name  \\\n",
       "40     카타르  {'korName': '중동', 'engName': 'Middle East'}  카타르 (KRW/QAR)   \n",
       "41      터키  {'korName': '중동', 'engName': 'Middle East'}   터키 (KRW/TRY)   \n",
       "\n",
       "    recurrenceCount  basePrice  ... changeRate  cashBuyingPrice  \\\n",
       "40              526     352.01  ...   0.002324              0.0   \n",
       "41              526      68.12  ...   0.002197              0.0   \n",
       "\n",
       "    cashSellingPrice  ttBuyingPrice  ttSellingPrice  tcBuyingPrice  \\\n",
       "40               0.0           0.00            0.00           None   \n",
       "41               0.0          67.38           68.86           None   \n",
       "\n",
       "    fcSellingPrice exchangeCommission usDollarRate  \\\n",
       "40            None              3.355       0.2742   \n",
       "41            None             26.400       0.0531   \n",
       "\n",
       "                                        chartImageUrl  \n",
       "40  {'day': 'https://t1.daumcdn.net/finance/chart/...  \n",
       "41  {'day': 'https://t1.daumcdn.net/finance/chart/...  \n",
       "\n",
       "[2 rows x 22 columns]"
      ]
     },
     "execution_count": 19,
     "metadata": {},
     "output_type": "execute_result"
    }
   ],
   "source": [
    "#1. 웹서비스 분석 : URL\n",
    "url = 'https://finance.daum.net/api/exchanges/summaries'\n",
    "#유저 에이전트 추가\n",
    "headers = {\n",
    "    'user-agent': 'Mozilla/5.0 (Windows NT 10.0; Win64; x64) AppleWebKit/537.36 (KHTML, like Gecko) Chrome/110.0.0.0 Safari/537.36',\n",
    "    'referer': 'https://finance.daum.net/exchanges',\n",
    "}\n",
    "\n",
    "#2. request(URL) > response : json(str)\n",
    "response= requests.get(url, headers=headers)\n",
    "response\n",
    "\n",
    "#3. json(str) > list, dict > DataFrame'\n",
    "df=pd.DataFrame(response.json()['data'])\n",
    "df.tail(2)"
   ]
  },
  {
   "cell_type": "code",
   "execution_count": 3,
   "id": "344c6088",
   "metadata": {},
   "outputs": [
    {
     "data": {
      "text/plain": [
       "'<html>\\r\\n<head><title>403 Forbidden</title></head>\\r\\n<body bgcolor=\"white\">\\r\\n<center><h1>403 Forbidden</h1></center>\\r\\n<hr><center>nginx</center>\\r\\n</body>\\r\\n</html>\\r\\n'"
      ]
     },
     "execution_count": 3,
     "metadata": {},
     "output_type": "execute_result"
    }
   ],
   "source": [
    "#코드 개발자가 어뷰징하는걸 막음\n",
    "response.text"
   ]
  },
  {
   "cell_type": "code",
   "execution_count": 18,
   "id": "a788ba15",
   "metadata": {},
   "outputs": [],
   "source": [
    "#...으로 표기된 컬럼 다보이게 하는법\n",
    "pd.options.display.max_columns=20\n",
    "pd.options.display.max_rows=1000"
   ]
  },
  {
   "cell_type": "code",
   "execution_count": null,
   "id": "ecbf7c68",
   "metadata": {},
   "outputs": [],
   "source": []
  },
  {
   "cell_type": "code",
   "execution_count": null,
   "id": "77881408",
   "metadata": {},
   "outputs": [],
   "source": []
  },
  {
   "cell_type": "code",
   "execution_count": null,
   "id": "901f8ea9",
   "metadata": {},
   "outputs": [],
   "source": []
  },
  {
   "cell_type": "code",
   "execution_count": null,
   "id": "40571c5f",
   "metadata": {},
   "outputs": [],
   "source": []
  }
 ],
 "metadata": {
  "kernelspec": {
   "display_name": "base",
   "language": "python",
   "name": "python3"
  },
  "language_info": {
   "codemirror_mode": {
    "name": "ipython",
    "version": 3
   },
   "file_extension": ".py",
   "mimetype": "text/x-python",
   "name": "python",
   "nbconvert_exporter": "python",
   "pygments_lexer": "ipython3",
   "version": "3.9.13"
  },
  "vscode": {
   "interpreter": {
    "hash": "f08154012ddadd8e950e6e9e035c7a7b32c136e7647e9b7c77e02eb723a8bedb"
   }
  }
 },
 "nbformat": 4,
 "nbformat_minor": 5
}
