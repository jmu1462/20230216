{
 "cells": [
  {
   "cell_type": "code",
   "execution_count": 1,
   "id": "8ccae5e7",
   "metadata": {},
   "outputs": [],
   "source": [
    "#summary\n",
    "#web : server-client : url\n",
    "#동적페이지 : URL 변화 없이 페이지의 데이터 수정 : json(str) > response.json() > DataFrame\n",
    "#정적페이지 : URL 변화를 주어 페이지의 데이터 수정 : html(str) > BeautifulSoup > css selector > DataFrame\n",
    "#selenium : 웹브라이저를 python 코드로 컨트롤해서 데이터 수집\n",
    "#requests(동적페이지, API) > requests(정적페이지) > selenium(앞의 두 방식보다 크롤링 속도가 떨어짐)\n",
    "\n",
    "#웹크롤링 절차\n",
    "# 1. 웹 서비스 분석(개발자 도구), API 문서 : URL \n",
    "# 2. request() > response(data) : data(json(str), html(str))\n",
    "# 3. data(json(str), html(str)) > response.json(), BeautifulSoup(css-selector) > DataFrame\n",
    "\n",
    "# request 할때 401, 403, 500 등등의 에러가 발생하는 경우 > headers 수정해서 데이터 요청(user-agent, refere)\n",
    "# API 이용 : request token 수집 후 크롤링"
   ]
  },
  {
   "attachments": {},
   "cell_type": "markdown",
   "id": "democratic-utility",
   "metadata": {},
   "source": [
    "### Zigbang 원룸 매물 데이터 수집\n",
    "- 동이름 > 매물 데이터"
   ]
  },
  {
   "cell_type": "code",
   "execution_count": 2,
   "id": "9affefe3",
   "metadata": {},
   "outputs": [],
   "source": [
    "import pandas as pd\n",
    "import requests"
   ]
  },
  {
   "cell_type": "markdown",
   "id": "whole-answer",
   "metadata": {},
   "source": [
    "#### Process\n",
    "    - 동이름으로 위도 경도 구하기\n",
    "    - 위도 경도로 geohash 알아내기\n",
    "    - geohash로 매물 아이디 가져오기\n",
    "    - 매물 아이디로 매물 정보 가져오기"
   ]
  },
  {
   "cell_type": "markdown",
   "id": "b98f0c6c",
   "metadata": {},
   "source": [
    "#### 1. 동이름으로 위도 경도 구하기"
   ]
  },
  {
   "cell_type": "code",
   "execution_count": 10,
   "id": "4e8d14a3",
   "metadata": {},
   "outputs": [
    {
     "data": {
      "text/plain": [
       "(37.361507415771484, 127.1114730834961)"
      ]
     },
     "execution_count": 10,
     "metadata": {},
     "output_type": "execute_result"
    }
   ],
   "source": [
    "# 1. URL\n",
    "address='정자동'\n",
    "url = f'https://apis.zigbang.com/v2/search?leaseYn=N&q={address}&serviceType=원룸' #leasn이라고 써있는 곳의 URL을 가져옴\n",
    "\n",
    "# 2. request > response : json(str)\n",
    "response = requests.get(url)\n",
    "response\n",
    "# 3. json(str) > lat, lng\n",
    "data=response.json()['items'][0]\n",
    "lat, lng = data['lat'], data['lng']\n",
    "lat, lng"
   ]
  },
  {
   "cell_type": "code",
   "execution_count": 9,
   "id": "7014be73",
   "metadata": {},
   "outputs": [
    {
     "data": {
      "text/plain": [
       "{'id': 650,\n",
       " 'type': 'address',\n",
       " 'name': '정자동',\n",
       " 'hint': '',\n",
       " 'description': '경기도 성남시 분당구 정자동',\n",
       " 'lat': 37.361507415771484,\n",
       " 'lng': 127.1114730834961,\n",
       " 'zoom': 5,\n",
       " 'polygon': [],\n",
       " '_score': None,\n",
       " '_source': {'name_length': 3,\n",
       "  'local1': '경기도',\n",
       "  'local2': '성남시 분당구',\n",
       "  'local3': '정자동',\n",
       "  'web_level': 15,\n",
       "  'web_lat': 37.361507415771484,\n",
       "  'web_lng': 127.1114730834961,\n",
       "  'app_level': 15,\n",
       "  'app_lat': 37.361507415771484,\n",
       "  'app_lng': 127.1114730834961,\n",
       "  '법정동코드': '4113510300'},\n",
       " 'zoom_level': {'google': 15, 'daum': 4},\n",
       " 'zoom_level_v2': {'app': 5, 'web': 4}}"
      ]
     },
     "execution_count": 9,
     "metadata": {},
     "output_type": "execute_result"
    }
   ],
   "source": [
    "response.json()['items'][0]\n",
    "\n",
    "lat, lng = data['lat'], data['lng']\n",
    "lat, lng"
   ]
  },
  {
   "cell_type": "code",
   "execution_count": 5,
   "id": "c04e5ce7",
   "metadata": {},
   "outputs": [
    {
     "data": {
      "text/plain": [
       "'{\"success\":true,\"code\":\"200\",\"items\":[{\"id\":650,\"type\":\"address\",\"name\":\"정자동\",\"hint\":\"\",\"description\":\"경기도 성남시 분당구 정자동\",\"lat\":37.361507415771484,\"lng\":127.1114730834961,\"zoom\":5,\"polygon\":[],\"_score\":null,\"_source\":{\"name_length\":3,\"local1\":\"경기도\",\"local2\":\"성남시 분당구\",\"local3\":\"정자동\",\"web_level\":15,\"web_lat\":37.361507415771484,\"web_lng\":127.1114730834961,\"app_level\":15,\"app_lat\":37.361507415771484,\"app_lng\":127.1114730834961,\"법정동코드\":\"4113510300\"},\"zoom_level\":{\"google\":15,\"daum\":4},\"zoom_level_v2\":{\"app\":5,\"web\":4}},{\"id\":743,\"type\":\"address\",\"name\":\"정자동\",\"hint\":\"\",\"description\":\"경기도 수원시 장안구 정자동\",\"lat\":37.301753997802734,\"lng\":126.9908447265625,\"zoom\":5,\"polygon\":[],\"_score\":null,\"_source\":{\"name_length\":3,\"local1\":\"경기도\",\"local2\":\"수원시 장안구\",\"local3\":\"정자동\",\"web_level\":15,\"web_lat\":37.301753997802734,\"web_lng\":126.9908447265625,\"app_level\":15,\"app_lat\":37.301753997802734,\"app_lng\":126.9908447265625,\"법정동코드\":\"4111113000\"},\"zoom_level\":{\"google\":15,\"daum\":4},\"zoom_level_v2\":{\"app\":5,\"web\":4}},{\"id\":4625,\"type\":\"address\",\"name\":\"정자동\",\"hint\":\"\",\"description\":\"울산시 북구 정자동\",\"lat\":35.61669158935547,\"lng\":129.44309997558594,\"zoom\":5,\"polygon\":[],\"_score\":null,\"_source\":{\"name_length\":3,\"local1\":\"울산시\",\"local2\":\"북구\",\"local3\":\"정자동\",\"web_level\":15,\"web_lat\":35.61669158935547,\"web_lng\":129.44309997558594,\"app_level\":15,\"app_lat\":35.61669158935547,\"app_lng\":129.44309997558594,\"법정동코드\":\"3120011300\"},\"zoom_level\":{\"google\":15,\"daum\":4},\"zoom_level_v2\":{\"app\":5,\"web\":4}},{\"id\":1684,\"type\":\"address\",\"name\":\"삼정자동\",\"hint\":\"\",\"description\":\"경상남도 창원시 성산구 삼정자동\",\"lat\":35.1991081237793,\"lng\":128.71566772460938,\"zoom\":5,\"polygon\":[],\"_score\":null,\"_source\":{\"name_length\":4,\"local1\":\"경상남도\",\"local2\":\"창원시 성산구\",\"local3\":\"삼정자동\",\"web_level\":15,\"web_lat\":35.1991081237793,\"web_lng\":128.71566772460938,\"app_level\":15,\"app_lat\":35.1991081237793,\"app_lng\":128.71566772460938,\"법정동코드\":\"4812310700\"},\"zoom_level\":{\"google\":15,\"daum\":4},\"zoom_level_v2\":{\"app\":5,\"web\":4}}],\"next\":null,\"limit\":0}'"
      ]
     },
     "execution_count": 5,
     "metadata": {},
     "output_type": "execute_result"
    }
   ],
   "source": [
    "response.text"
   ]
  },
  {
   "cell_type": "code",
   "execution_count": null,
   "id": "d8a569f2",
   "metadata": {},
   "outputs": [],
   "source": []
  },
  {
   "attachments": {},
   "cell_type": "markdown",
   "id": "8dfada31",
   "metadata": {},
   "source": [
    "#### 2. 위도 경도로 geohash 알아내기\n",
    "geohash2 : pip install geohash2"
   ]
  },
  {
   "cell_type": "code",
   "execution_count": 12,
   "id": "1d270ab4",
   "metadata": {},
   "outputs": [
    {
     "name": "stdout",
     "output_type": "stream",
     "text": [
      "Collecting geohash2\n",
      "  Downloading geohash2-1.1.tar.gz (15 kB)\n",
      "  Preparing metadata (setup.py): started\n",
      "  Preparing metadata (setup.py): finished with status 'done'\n",
      "Requirement already satisfied: docutils>=0.3 in c:\\users\\user\\anaconda3\\lib\\site-packages (from geohash2) (0.18.1)\n",
      "Building wheels for collected packages: geohash2\n",
      "  Building wheel for geohash2 (setup.py): started\n",
      "  Building wheel for geohash2 (setup.py): finished with status 'done'\n",
      "  Created wheel for geohash2: filename=geohash2-1.1-py3-none-any.whl size=15545 sha256=64252ea6c14f7148f4a6d61234b912c32d3ed1acb23f50592ff322b69eb0e108\n",
      "  Stored in directory: c:\\users\\user\\appdata\\local\\pip\\cache\\wheels\\ec\\29\\ab\\aa2b0265ceaef06eac4aed2ca6ae1b17eb2ffb14d611f20172\n",
      "Successfully built geohash2\n",
      "Installing collected packages: geohash2\n",
      "Successfully installed geohash2-1.1\n",
      "Note: you may need to restart the kernel to use updated packages.\n"
     ]
    }
   ],
   "source": [
    "pip install geohash2"
   ]
  },
  {
   "cell_type": "code",
   "execution_count": 13,
   "id": "442a4736",
   "metadata": {},
   "outputs": [],
   "source": [
    "import geohash2"
   ]
  },
  {
   "cell_type": "code",
   "execution_count": 14,
   "id": "1e424bd3",
   "metadata": {},
   "outputs": [
    {
     "data": {
      "text/plain": [
       "'wydks'"
      ]
     },
     "execution_count": 14,
     "metadata": {},
     "output_type": "execute_result"
    }
   ],
   "source": [
    "#precision : 클수록 영역이 작아짐\n",
    "geohash = geohash2.encode(lat, lng, precision=5)\n",
    "geohash"
   ]
  },
  {
   "cell_type": "code",
   "execution_count": null,
   "id": "cdefdb21",
   "metadata": {},
   "outputs": [],
   "source": []
  },
  {
   "cell_type": "markdown",
   "id": "13e8b3f9",
   "metadata": {},
   "source": [
    "#### 3. geohash로 매물 아이디 가져오기"
   ]
  },
  {
   "cell_type": "code",
   "execution_count": 19,
   "id": "2ceb8ea4",
   "metadata": {},
   "outputs": [
    {
     "data": {
      "text/plain": [
       "<Response [200]>"
      ]
     },
     "execution_count": 19,
     "metadata": {},
     "output_type": "execute_result"
    }
   ],
   "source": [
    "#items로 시작하는 곳의 URL을 디코딩해서 가져옴\n",
    "url = f'https://apis.zigbang.com/v2/items?deposit_gteq=0&domain=zigbang&geohash={geohash}&needHasNoFiltered=true&rent_gteq=0&sales_type_in=전세|월세&service_type_eq=원룸'\n",
    "url\n",
    "\n",
    "response = requests.get(url)\n",
    "response"
   ]
  },
  {
   "cell_type": "code",
   "execution_count": 34,
   "id": "c84eb4c5",
   "metadata": {},
   "outputs": [
    {
     "data": {
      "text/html": [
       "<div>\n",
       "<style scoped>\n",
       "    .dataframe tbody tr th:only-of-type {\n",
       "        vertical-align: middle;\n",
       "    }\n",
       "\n",
       "    .dataframe tbody tr th {\n",
       "        vertical-align: top;\n",
       "    }\n",
       "\n",
       "    .dataframe thead th {\n",
       "        text-align: right;\n",
       "    }\n",
       "</style>\n",
       "<table border=\"1\" class=\"dataframe\">\n",
       "  <thead>\n",
       "    <tr style=\"text-align: right;\">\n",
       "      <th></th>\n",
       "      <th>section_type</th>\n",
       "      <th>item_id</th>\n",
       "      <th>images_thumbnail</th>\n",
       "      <th>sales_type</th>\n",
       "      <th>sales_title</th>\n",
       "      <th>deposit</th>\n",
       "      <th>rent</th>\n",
       "      <th>size_m2</th>\n",
       "      <th>공급면적</th>\n",
       "      <th>전용면적</th>\n",
       "      <th>계약면적</th>\n",
       "      <th>room_type_title</th>\n",
       "      <th>floor</th>\n",
       "      <th>floor_string</th>\n",
       "      <th>building_floor</th>\n",
       "      <th>title</th>\n",
       "      <th>is_first_movein</th>\n",
       "      <th>room_type</th>\n",
       "      <th>address</th>\n",
       "      <th>random_location</th>\n",
       "      <th>is_zzim</th>\n",
       "      <th>status</th>\n",
       "      <th>service_type</th>\n",
       "      <th>tags</th>\n",
       "      <th>address1</th>\n",
       "      <th>address2</th>\n",
       "      <th>address3</th>\n",
       "      <th>manage_cost</th>\n",
       "      <th>reg_date</th>\n",
       "      <th>is_new</th>\n",
       "      <th>contract</th>\n",
       "    </tr>\n",
       "  </thead>\n",
       "  <tbody>\n",
       "    <tr>\n",
       "      <th>317</th>\n",
       "      <td>None</td>\n",
       "      <td>35421581</td>\n",
       "      <td>https://ic.zigbang.com/ic/items/35421581/1.jpg</td>\n",
       "      <td>월세</td>\n",
       "      <td>월세</td>\n",
       "      <td>15000</td>\n",
       "      <td>40</td>\n",
       "      <td>64.99</td>\n",
       "      <td>{'m2': 64.99, 'p': '19.7'}</td>\n",
       "      <td>{'m2': 26.76, 'p': '8.1'}</td>\n",
       "      <td>None</td>\n",
       "      <td>None</td>\n",
       "      <td>고</td>\n",
       "      <td>고</td>\n",
       "      <td>14</td>\n",
       "      <td>주거용.  전입가능 . 밝은동향.  풀옵션. 판교초역세권.</td>\n",
       "      <td>None</td>\n",
       "      <td>01</td>\n",
       "      <td>성남시 분당구 삼평동</td>\n",
       "      <td>{'lat': 37.396638200150875, 'lng': 127.1116075...</td>\n",
       "      <td>False</td>\n",
       "      <td>True</td>\n",
       "      <td>오피스텔</td>\n",
       "      <td>[추천]</td>\n",
       "      <td>경기도 성남시 분당구 삼평동</td>\n",
       "      <td>None</td>\n",
       "      <td>None</td>\n",
       "      <td>15</td>\n",
       "      <td>2023-02-14T12:33:30+09:00</td>\n",
       "      <td>False</td>\n",
       "      <td></td>\n",
       "    </tr>\n",
       "    <tr>\n",
       "      <th>318</th>\n",
       "      <td>None</td>\n",
       "      <td>35442050</td>\n",
       "      <td>https://ic.zigbang.com/ic/items/35442050/1.jpg</td>\n",
       "      <td>월세</td>\n",
       "      <td>월세</td>\n",
       "      <td>1000</td>\n",
       "      <td>100</td>\n",
       "      <td>64.28</td>\n",
       "      <td>{'m2': 64.28, 'p': '19.4'}</td>\n",
       "      <td>{'m2': 26.45, 'p': '8'}</td>\n",
       "      <td>None</td>\n",
       "      <td>None</td>\n",
       "      <td>저</td>\n",
       "      <td>저</td>\n",
       "      <td>14</td>\n",
       "      <td>전입, 밝은집, 판교역도보3분</td>\n",
       "      <td>None</td>\n",
       "      <td>01</td>\n",
       "      <td>성남시 분당구 삼평동</td>\n",
       "      <td>{'lat': 37.396657957337915, 'lng': 127.1122617...</td>\n",
       "      <td>False</td>\n",
       "      <td>True</td>\n",
       "      <td>오피스텔</td>\n",
       "      <td>[추천]</td>\n",
       "      <td>경기도 성남시 분당구 삼평동</td>\n",
       "      <td>None</td>\n",
       "      <td>None</td>\n",
       "      <td>15</td>\n",
       "      <td>2023-02-15T14:23:04+09:00</td>\n",
       "      <td>True</td>\n",
       "      <td></td>\n",
       "    </tr>\n",
       "  </tbody>\n",
       "</table>\n",
       "</div>"
      ],
      "text/plain": [
       "    section_type   item_id                                images_thumbnail  \\\n",
       "317         None  35421581  https://ic.zigbang.com/ic/items/35421581/1.jpg   \n",
       "318         None  35442050  https://ic.zigbang.com/ic/items/35442050/1.jpg   \n",
       "\n",
       "    sales_type sales_title  deposit  rent  size_m2  \\\n",
       "317         월세          월세    15000    40    64.99   \n",
       "318         월세          월세     1000   100    64.28   \n",
       "\n",
       "                           공급면적                       전용면적  계약면적  \\\n",
       "317  {'m2': 64.99, 'p': '19.7'}  {'m2': 26.76, 'p': '8.1'}  None   \n",
       "318  {'m2': 64.28, 'p': '19.4'}    {'m2': 26.45, 'p': '8'}  None   \n",
       "\n",
       "    room_type_title floor floor_string building_floor  \\\n",
       "317            None     고            고             14   \n",
       "318            None     저            저             14   \n",
       "\n",
       "                                title is_first_movein room_type      address  \\\n",
       "317  주거용.  전입가능 . 밝은동향.  풀옵션. 판교초역세권.            None        01  성남시 분당구 삼평동   \n",
       "318                  전입, 밝은집, 판교역도보3분            None        01  성남시 분당구 삼평동   \n",
       "\n",
       "                                       random_location  is_zzim  status  \\\n",
       "317  {'lat': 37.396638200150875, 'lng': 127.1116075...    False    True   \n",
       "318  {'lat': 37.396657957337915, 'lng': 127.1122617...    False    True   \n",
       "\n",
       "    service_type  tags         address1 address2 address3 manage_cost  \\\n",
       "317         오피스텔  [추천]  경기도 성남시 분당구 삼평동     None     None          15   \n",
       "318         오피스텔  [추천]  경기도 성남시 분당구 삼평동     None     None          15   \n",
       "\n",
       "                      reg_date  is_new contract  \n",
       "317  2023-02-14T12:33:30+09:00   False           \n",
       "318  2023-02-15T14:23:04+09:00    True           "
      ]
     },
     "execution_count": 34,
     "metadata": {},
     "output_type": "execute_result"
    }
   ],
   "source": [
    "data=response.json()['items']\n",
    "ids = [item['item_id'] for item in data]\n",
    "len(ids), ids[:5]"
   ]
  },
  {
   "cell_type": "markdown",
   "id": "85225aae",
   "metadata": {},
   "source": [
    "#### 4. 매물 아이디로 매물 정보 가져오기"
   ]
  },
  {
   "cell_type": "code",
   "execution_count": 24,
   "id": "0212d892",
   "metadata": {},
   "outputs": [
    {
     "data": {
      "text/plain": [
       "<Response [200]>"
      ]
     },
     "execution_count": 24,
     "metadata": {},
     "output_type": "execute_result"
    }
   ],
   "source": [
    "#list라고 써있는 곳에서 URL 가져옴\n",
    "url = 'https://apis.zigbang.com/v2/items/list'\n",
    "\n",
    "params={\n",
    "    'domain' : 'zigbang',\n",
    "    'withCoalition' : 'true',\n",
    "    'item_ids' : ids[:900],\n",
    "}\n",
    "\n",
    "response = requests.post(url, params)\n",
    "response"
   ]
  },
  {
   "cell_type": "code",
   "execution_count": 30,
   "id": "94c66cee",
   "metadata": {},
   "outputs": [],
   "source": [
    "pd.options.display.max_columns=50"
   ]
  },
  {
   "cell_type": "code",
   "execution_count": 36,
   "id": "e8d20246",
   "metadata": {},
   "outputs": [
    {
     "data": {
      "text/html": [
       "<div>\n",
       "<style scoped>\n",
       "    .dataframe tbody tr th:only-of-type {\n",
       "        vertical-align: middle;\n",
       "    }\n",
       "\n",
       "    .dataframe tbody tr th {\n",
       "        vertical-align: top;\n",
       "    }\n",
       "\n",
       "    .dataframe thead th {\n",
       "        text-align: right;\n",
       "    }\n",
       "</style>\n",
       "<table border=\"1\" class=\"dataframe\">\n",
       "  <thead>\n",
       "    <tr style=\"text-align: right;\">\n",
       "      <th></th>\n",
       "      <th>section_type</th>\n",
       "      <th>item_id</th>\n",
       "      <th>images_thumbnail</th>\n",
       "      <th>sales_type</th>\n",
       "      <th>sales_title</th>\n",
       "      <th>deposit</th>\n",
       "      <th>rent</th>\n",
       "      <th>size_m2</th>\n",
       "      <th>공급면적</th>\n",
       "      <th>전용면적</th>\n",
       "      <th>계약면적</th>\n",
       "      <th>room_type_title</th>\n",
       "      <th>floor</th>\n",
       "      <th>floor_string</th>\n",
       "      <th>building_floor</th>\n",
       "      <th>title</th>\n",
       "      <th>is_first_movein</th>\n",
       "      <th>room_type</th>\n",
       "      <th>address</th>\n",
       "      <th>random_location</th>\n",
       "      <th>is_zzim</th>\n",
       "      <th>status</th>\n",
       "      <th>service_type</th>\n",
       "      <th>tags</th>\n",
       "      <th>address1</th>\n",
       "      <th>address2</th>\n",
       "      <th>address3</th>\n",
       "      <th>manage_cost</th>\n",
       "      <th>reg_date</th>\n",
       "      <th>is_new</th>\n",
       "      <th>contract</th>\n",
       "    </tr>\n",
       "  </thead>\n",
       "  <tbody>\n",
       "    <tr>\n",
       "      <th>317</th>\n",
       "      <td>None</td>\n",
       "      <td>35421581</td>\n",
       "      <td>https://ic.zigbang.com/ic/items/35421581/1.jpg</td>\n",
       "      <td>월세</td>\n",
       "      <td>월세</td>\n",
       "      <td>15000</td>\n",
       "      <td>40</td>\n",
       "      <td>64.99</td>\n",
       "      <td>{'m2': 64.99, 'p': '19.7'}</td>\n",
       "      <td>{'m2': 26.76, 'p': '8.1'}</td>\n",
       "      <td>None</td>\n",
       "      <td>None</td>\n",
       "      <td>고</td>\n",
       "      <td>고</td>\n",
       "      <td>14</td>\n",
       "      <td>주거용.  전입가능 . 밝은동향.  풀옵션. 판교초역세권.</td>\n",
       "      <td>None</td>\n",
       "      <td>01</td>\n",
       "      <td>성남시 분당구 삼평동</td>\n",
       "      <td>{'lat': 37.396638200150875, 'lng': 127.1116075...</td>\n",
       "      <td>False</td>\n",
       "      <td>True</td>\n",
       "      <td>오피스텔</td>\n",
       "      <td>[추천]</td>\n",
       "      <td>경기도 성남시 분당구 삼평동</td>\n",
       "      <td>None</td>\n",
       "      <td>None</td>\n",
       "      <td>15</td>\n",
       "      <td>2023-02-14T12:33:30+09:00</td>\n",
       "      <td>False</td>\n",
       "      <td></td>\n",
       "    </tr>\n",
       "    <tr>\n",
       "      <th>318</th>\n",
       "      <td>None</td>\n",
       "      <td>35442050</td>\n",
       "      <td>https://ic.zigbang.com/ic/items/35442050/1.jpg</td>\n",
       "      <td>월세</td>\n",
       "      <td>월세</td>\n",
       "      <td>1000</td>\n",
       "      <td>100</td>\n",
       "      <td>64.28</td>\n",
       "      <td>{'m2': 64.28, 'p': '19.4'}</td>\n",
       "      <td>{'m2': 26.45, 'p': '8'}</td>\n",
       "      <td>None</td>\n",
       "      <td>None</td>\n",
       "      <td>저</td>\n",
       "      <td>저</td>\n",
       "      <td>14</td>\n",
       "      <td>전입, 밝은집, 판교역도보3분</td>\n",
       "      <td>None</td>\n",
       "      <td>01</td>\n",
       "      <td>성남시 분당구 삼평동</td>\n",
       "      <td>{'lat': 37.396657957337915, 'lng': 127.1122617...</td>\n",
       "      <td>False</td>\n",
       "      <td>True</td>\n",
       "      <td>오피스텔</td>\n",
       "      <td>[추천]</td>\n",
       "      <td>경기도 성남시 분당구 삼평동</td>\n",
       "      <td>None</td>\n",
       "      <td>None</td>\n",
       "      <td>15</td>\n",
       "      <td>2023-02-15T14:23:04+09:00</td>\n",
       "      <td>True</td>\n",
       "      <td></td>\n",
       "    </tr>\n",
       "  </tbody>\n",
       "</table>\n",
       "</div>"
      ],
      "text/plain": [
       "    section_type   item_id                                images_thumbnail  \\\n",
       "317         None  35421581  https://ic.zigbang.com/ic/items/35421581/1.jpg   \n",
       "318         None  35442050  https://ic.zigbang.com/ic/items/35442050/1.jpg   \n",
       "\n",
       "    sales_type sales_title  deposit  rent  size_m2  \\\n",
       "317         월세          월세    15000    40    64.99   \n",
       "318         월세          월세     1000   100    64.28   \n",
       "\n",
       "                           공급면적                       전용면적  계약면적  \\\n",
       "317  {'m2': 64.99, 'p': '19.7'}  {'m2': 26.76, 'p': '8.1'}  None   \n",
       "318  {'m2': 64.28, 'p': '19.4'}    {'m2': 26.45, 'p': '8'}  None   \n",
       "\n",
       "    room_type_title floor floor_string building_floor  \\\n",
       "317            None     고            고             14   \n",
       "318            None     저            저             14   \n",
       "\n",
       "                                title is_first_movein room_type      address  \\\n",
       "317  주거용.  전입가능 . 밝은동향.  풀옵션. 판교초역세권.            None        01  성남시 분당구 삼평동   \n",
       "318                  전입, 밝은집, 판교역도보3분            None        01  성남시 분당구 삼평동   \n",
       "\n",
       "                                       random_location  is_zzim  status  \\\n",
       "317  {'lat': 37.396638200150875, 'lng': 127.1116075...    False    True   \n",
       "318  {'lat': 37.396657957337915, 'lng': 127.1122617...    False    True   \n",
       "\n",
       "    service_type  tags         address1 address2 address3 manage_cost  \\\n",
       "317         오피스텔  [추천]  경기도 성남시 분당구 삼평동     None     None          15   \n",
       "318         오피스텔  [추천]  경기도 성남시 분당구 삼평동     None     None          15   \n",
       "\n",
       "                      reg_date  is_new contract  \n",
       "317  2023-02-14T12:33:30+09:00   False           \n",
       "318  2023-02-15T14:23:04+09:00    True           "
      ]
     },
     "execution_count": 36,
     "metadata": {},
     "output_type": "execute_result"
    }
   ],
   "source": [
    "data = response.json()['items'] \n",
    "df = pd.DataFrame(data) \n",
    "df.tail(2)"
   ]
  },
  {
   "cell_type": "code",
   "execution_count": 37,
   "id": "4bb24c92",
   "metadata": {},
   "outputs": [
    {
     "data": {
      "text/plain": [
       "Index(['section_type', 'item_id', 'images_thumbnail', 'sales_type',\n",
       "       'sales_title', 'deposit', 'rent', 'size_m2', '공급면적', '전용면적', '계약면적',\n",
       "       'room_type_title', 'floor', 'floor_string', 'building_floor', 'title',\n",
       "       'is_first_movein', 'room_type', 'address', 'random_location', 'is_zzim',\n",
       "       'status', 'service_type', 'tags', 'address1', 'address2', 'address3',\n",
       "       'manage_cost', 'reg_date', 'is_new', 'contract'],\n",
       "      dtype='object')"
      ]
     },
     "execution_count": 37,
     "metadata": {},
     "output_type": "execute_result"
    }
   ],
   "source": [
    "df.columns"
   ]
  },
  {
   "cell_type": "code",
   "execution_count": 39,
   "id": "543cc562",
   "metadata": {},
   "outputs": [
    {
     "data": {
      "text/html": [
       "<div>\n",
       "<style scoped>\n",
       "    .dataframe tbody tr th:only-of-type {\n",
       "        vertical-align: middle;\n",
       "    }\n",
       "\n",
       "    .dataframe tbody tr th {\n",
       "        vertical-align: top;\n",
       "    }\n",
       "\n",
       "    .dataframe thead th {\n",
       "        text-align: right;\n",
       "    }\n",
       "</style>\n",
       "<table border=\"1\" class=\"dataframe\">\n",
       "  <thead>\n",
       "    <tr style=\"text-align: right;\">\n",
       "      <th></th>\n",
       "      <th>item_id</th>\n",
       "      <th>sales_type</th>\n",
       "      <th>deposit</th>\n",
       "      <th>rent</th>\n",
       "      <th>size_m2</th>\n",
       "      <th>floor</th>\n",
       "      <th>building_floor</th>\n",
       "      <th>title</th>\n",
       "      <th>address</th>\n",
       "      <th>status</th>\n",
       "      <th>service_type</th>\n",
       "      <th>tags</th>\n",
       "      <th>address1</th>\n",
       "      <th>manage_cost</th>\n",
       "    </tr>\n",
       "  </thead>\n",
       "  <tbody>\n",
       "    <tr>\n",
       "      <th>209</th>\n",
       "      <td>35417677</td>\n",
       "      <td>월세</td>\n",
       "      <td>1500</td>\n",
       "      <td>80</td>\n",
       "      <td>59.50</td>\n",
       "      <td>2</td>\n",
       "      <td>3</td>\n",
       "      <td>올수리   정자역도보10분거리 넓은집</td>\n",
       "      <td>성남시 분당구 정자동</td>\n",
       "      <td>True</td>\n",
       "      <td>빌라</td>\n",
       "      <td>[]</td>\n",
       "      <td>경기도 성남시 분당구 정자동</td>\n",
       "      <td>5</td>\n",
       "    </tr>\n",
       "    <tr>\n",
       "      <th>210</th>\n",
       "      <td>35284366</td>\n",
       "      <td>전세</td>\n",
       "      <td>23000</td>\n",
       "      <td>0</td>\n",
       "      <td>61.16</td>\n",
       "      <td>2</td>\n",
       "      <td>3</td>\n",
       "      <td>정자역.수내역 인근 넓고 컨디션좋은2룸.</td>\n",
       "      <td>성남시 분당구 정자동</td>\n",
       "      <td>True</td>\n",
       "      <td>빌라</td>\n",
       "      <td>[]</td>\n",
       "      <td>경기도 성남시 분당구 정자동</td>\n",
       "      <td>5</td>\n",
       "    </tr>\n",
       "  </tbody>\n",
       "</table>\n",
       "</div>"
      ],
      "text/plain": [
       "      item_id sales_type  deposit  rent  size_m2 floor building_floor  \\\n",
       "209  35417677         월세     1500    80    59.50     2              3   \n",
       "210  35284366         전세    23000     0    61.16     2              3   \n",
       "\n",
       "                      title      address  status service_type tags  \\\n",
       "209    올수리   정자역도보10분거리 넓은집  성남시 분당구 정자동    True           빌라   []   \n",
       "210  정자역.수내역 인근 넓고 컨디션좋은2룸.  성남시 분당구 정자동    True           빌라   []   \n",
       "\n",
       "            address1 manage_cost  \n",
       "209  경기도 성남시 분당구 정자동           5  \n",
       "210  경기도 성남시 분당구 정자동           5  "
      ]
     },
     "execution_count": 39,
     "metadata": {},
     "output_type": "execute_result"
    }
   ],
   "source": [
    "colums = ['item_id', 'sales_type', 'deposit', 'rent', 'size_m2', 'floor', 'building_floor', 'title', 'address', 'status', 'service_type', 'tags', 'address1', 'manage_cost'] \n",
    "df = df[colums] \n",
    "df = df[df['address'].str.contains(address)].reset_index(drop=True) \n",
    "df.tail(2)"
   ]
  },
  {
   "cell_type": "code",
   "execution_count": 40,
   "id": "a406c132",
   "metadata": {},
   "outputs": [
    {
     "name": "stdout",
     "output_type": "stream",
     "text": [
      "The Zen of Python, by Tim Peters\n",
      "\n",
      "Beautiful is better than ugly.\n",
      "Explicit is better than implicit.\n",
      "Simple is better than complex.\n",
      "Complex is better than complicated.\n",
      "Flat is better than nested.\n",
      "Sparse is better than dense.\n",
      "Readability counts.\n",
      "Special cases aren't special enough to break the rules.\n",
      "Although practicality beats purity.\n",
      "Errors should never pass silently.\n",
      "Unless explicitly silenced.\n",
      "In the face of ambiguity, refuse the temptation to guess.\n",
      "There should be one-- and preferably only one --obvious way to do it.\n",
      "Although that way may not be obvious at first unless you're Dutch.\n",
      "Now is better than never.\n",
      "Although never is often better than *right* now.\n",
      "If the implementation is hard to explain, it's a bad idea.\n",
      "If the implementation is easy to explain, it may be a good idea.\n",
      "Namespaces are one honking great idea -- let's do more of those!\n"
     ]
    }
   ],
   "source": [
    "#pep documents\n",
    "#pep20, pep8 공식 코드작성 방법(일부 실무에서 pep따라서 안하면 업데이트가 안됨, 교정 프로그램 있음)\n",
    "#flake8 : 코드효율성 체크(일부 비효율적인 코드로 나오면 업데이트가 안됨) \n",
    "import this"
   ]
  },
  {
   "cell_type": "code",
   "execution_count": null,
   "id": "7eaeb27a",
   "metadata": {},
   "outputs": [],
   "source": [
    "#문법(에러발생, 코드실행X), 컨벤션(에러발생X, 코드실행o)\n",
    "#1data=1  문법이 틀림"
   ]
  },
  {
   "cell_type": "code",
   "execution_count": null,
   "id": "8e5edd1b",
   "metadata": {},
   "outputs": [],
   "source": [
    "data=1 #컨벤션-연산자 앞뒤로 한칸씩 띄워야됨"
   ]
  },
  {
   "cell_type": "code",
   "execution_count": 41,
   "id": "dd357013",
   "metadata": {},
   "outputs": [
    {
     "data": {
      "text/plain": [
       "'c:\\\\Users\\\\User\\\\webC\\\\20230216\\\\20230216'"
      ]
     },
     "execution_count": 41,
     "metadata": {},
     "output_type": "execute_result"
    }
   ],
   "source": [
    "#스페셜 커멘드 : %, %% : ipython에서 제공하는 커멘드\n",
    "%pwd"
   ]
  },
  {
   "cell_type": "code",
   "execution_count": 42,
   "id": "2a499158",
   "metadata": {},
   "outputs": [
    {
     "name": "stdout",
     "output_type": "stream",
     "text": [
      "CPU times: total: 0 ns\n",
      "Wall time: 1.01 ms\n"
     ]
    }
   ],
   "source": [
    "%%time\n",
    "data=1"
   ]
  },
  {
   "cell_type": "code",
   "execution_count": null,
   "id": "2bb2286f",
   "metadata": {},
   "outputs": [],
   "source": [
    "#쉘 커멘드 : ! : system에서 제공하는 커멘드\n",
    "#!pip install geohash2"
   ]
  }
 ],
 "metadata": {
  "kernelspec": {
   "display_name": "base",
   "language": "python",
   "name": "python3"
  },
  "language_info": {
   "codemirror_mode": {
    "name": "ipython",
    "version": 3
   },
   "file_extension": ".py",
   "mimetype": "text/x-python",
   "name": "python",
   "nbconvert_exporter": "python",
   "pygments_lexer": "ipython3",
   "version": "3.9.13"
  },
  "toc": {
   "base_numbering": 1,
   "nav_menu": {},
   "number_sections": false,
   "sideBar": true,
   "skip_h1_title": false,
   "title_cell": "Table of Contents",
   "title_sidebar": "Contents",
   "toc_cell": false,
   "toc_position": {},
   "toc_section_display": true,
   "toc_window_display": false
  },
  "vscode": {
   "interpreter": {
    "hash": "f08154012ddadd8e950e6e9e035c7a7b32c136e7647e9b7c77e02eb723a8bedb"
   }
  }
 },
 "nbformat": 4,
 "nbformat_minor": 5
}
