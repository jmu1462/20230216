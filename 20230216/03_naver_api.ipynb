{
 "cells": [
  {
   "cell_type": "code",
   "execution_count": null,
   "metadata": {},
   "outputs": [],
   "source": [
    "#크롤링 정책\n",
    "#robots.txt : 웹페이지의 크롤링 정책 설명한 페이지\n",
    "#크롤링법 X : 과도한 크롤링으로 서비스에 영향을 주었을 경우 업무방해 혐의로 고소당할 수 있음\n",
    "#법적문제 : 지적재산권, 서비스과부화, 데이터 사용 표준\n",
    "#API 사용 : 데이터를 가지고 있는 업체에서 데이터를 가져갈수 있도록 하는 서비스"
   ]
  },
  {
   "cell_type": "markdown",
   "metadata": {
    "id": "apodUP-CYr3_"
   },
   "source": [
    "### Naver Rest API\n",
    "- 파파고 번역 api\n",
    "- 통합검색어 트렌드 api"
   ]
  },
  {
   "cell_type": "code",
   "execution_count": 1,
   "metadata": {},
   "outputs": [],
   "source": [
    "import pandas as pd\n",
    "import requests, json"
   ]
  },
  {
   "cell_type": "markdown",
   "metadata": {
    "id": "ZEU1PeYTYr4C"
   },
   "source": [
    "#### 0. request token 얻기\n",
    "- `https://developers.naver.com`\n",
    "- 1. Request Token 얻기 : 애플리케이션등록 -> app_key 획득\n",
    "- 2. app_key를 이용해서 데이터 가져오기"
   ]
  },
  {
   "cell_type": "code",
   "execution_count": 2,
   "metadata": {},
   "outputs": [],
   "source": [
    "CLIENT_ID, CLIENT_SECRET = \"rKnn8JCrdCjlfVaBEJkr\", \"dydlL7Tztv\""
   ]
  },
  {
   "cell_type": "markdown",
   "metadata": {
    "id": "Fjd55ZqEYr4D"
   },
   "source": [
    "#### 1. 파파고 번역 api\n",
    "- `https://developers.naver.com/docs/papago/`\n",
    "- 사용법\n",
    "    - `https://developers.naver.com/docs/papago/papago-nmt-api-reference.md`"
   ]
  },
  {
   "cell_type": "code",
   "execution_count": 3,
   "metadata": {},
   "outputs": [],
   "source": [
    "# 1. API 문서 : URL을 찾는 방법\n",
    "ko_txt ='웹크롤링은 재미있다.'\n",
    "url='https://openapi.naver.com/v1/papago/n2mt'\n",
    "headers={\n",
    "    'Content-Type' : 'application/json',\n",
    "    'X-Naver-Client-Id' : CLIENT_ID,\n",
    "    'X-Naver-Client-Secret' : CLIENT_SECRET  \n",
    "}\n",
    "params = {'source': 'ko', 'target': 'en', 'text' : ko_txt}"
   ]
  },
  {
   "cell_type": "code",
   "execution_count": null,
   "metadata": {},
   "outputs": [],
   "source": [
    "# 2. request(URL,key,ko_txt) > response : json(str)"
   ]
  },
  {
   "cell_type": "code",
   "execution_count": 8,
   "metadata": {},
   "outputs": [
    {
     "data": {
      "text/plain": [
       "<Response [401]>"
      ]
     },
     "execution_count": 8,
     "metadata": {},
     "output_type": "execute_result"
    }
   ],
   "source": [
    "response = requests.post(url,json.dumps(params)) #json.dumps 데이터를 주고받을땐 한국어 불가, 영문,숫자만 가능 이걸 인코딩하여 전해주는게 json.dumps\n",
    "response"
   ]
  },
  {
   "cell_type": "code",
   "execution_count": 7,
   "metadata": {},
   "outputs": [
    {
     "data": {
      "text/plain": [
       "'{\"source\": \"ko\", \"target\": \"en\", \"text\": \"\\\\uc6f9\\\\ud06c\\\\ub864\\\\ub9c1\\\\uc740 \\\\uc7ac\\\\ubbf8\\\\uc788\\\\ub2e4.\"}'"
      ]
     },
     "execution_count": 7,
     "metadata": {},
     "output_type": "execute_result"
    }
   ],
   "source": [
    "json.dumps(params)"
   ]
  },
  {
   "cell_type": "code",
   "execution_count": 10,
   "metadata": {},
   "outputs": [
    {
     "data": {
      "text/plain": [
       "<Response [200]>"
      ]
     },
     "execution_count": 10,
     "metadata": {},
     "output_type": "execute_result"
    }
   ],
   "source": [
    "response = requests.post(url,json.dumps(params),headers=headers)\n",
    "response"
   ]
  },
  {
   "cell_type": "code",
   "execution_count": 11,
   "metadata": {},
   "outputs": [
    {
     "data": {
      "text/plain": [
       "'{\"message\":{\"result\":{\"srcLangType\":\"ko\",\"tarLangType\":\"en\",\"translatedText\":\"Webcrawling is fun.\",\"engineType\":\"N2MT\",\"pivot\":null,\"dict\":null,\"tarDict\":null,\"modelVer\":\"1.5.8|enko.2022.0929.03|koen.2022.1206.02\"},\"@type\":\"response\",\"@service\":\"naverservice.nmt.proxy\",\"@version\":\"1.0.0\"}}'"
      ]
     },
     "execution_count": 11,
     "metadata": {},
     "output_type": "execute_result"
    }
   ],
   "source": [
    "response.text"
   ]
  },
  {
   "cell_type": "code",
   "execution_count": null,
   "metadata": {},
   "outputs": [],
   "source": [
    "# 3.json(str) : en_txt"
   ]
  },
  {
   "cell_type": "code",
   "execution_count": 15,
   "metadata": {},
   "outputs": [
    {
     "data": {
      "text/plain": [
       "{'message': {'result': {'srcLangType': 'ko',\n",
       "   'tarLangType': 'en',\n",
       "   'translatedText': 'Webcrawling is fun.',\n",
       "   'engineType': 'N2MT',\n",
       "   'pivot': None,\n",
       "   'dict': None,\n",
       "   'tarDict': None,\n",
       "   'modelVer': '1.5.8|enko.2022.0929.03|koen.2022.1206.02'},\n",
       "  '@type': 'response',\n",
       "  '@service': 'naverservice.nmt.proxy',\n",
       "  '@version': '1.0.0'}}"
      ]
     },
     "execution_count": 15,
     "metadata": {},
     "output_type": "execute_result"
    }
   ],
   "source": [
    "response.json()"
   ]
  },
  {
   "cell_type": "code",
   "execution_count": 14,
   "metadata": {},
   "outputs": [
    {
     "data": {
      "text/plain": [
       "'Webcrawling is fun.'"
      ]
     },
     "execution_count": 14,
     "metadata": {},
     "output_type": "execute_result"
    }
   ],
   "source": [
    "en_txt=response.json()['message']['result']['translatedText']\n",
    "en_txt"
   ]
  },
  {
   "cell_type": "code",
   "execution_count": 18,
   "metadata": {},
   "outputs": [],
   "source": [
    "#함수로 만들기\n",
    "def translate(txt, source='ko', target='en') : \n",
    "    CLIENT_ID, CLIENT_SECRET = \"rKnn8JCrdCjlfVaBEJkr\", \"dydlL7Tztv\"\n",
    "    url='https://openapi.naver.com/v1/papago/n2mt'\n",
    "    headers={\n",
    "        'Content-Type' : 'application/json',\n",
    "        'X-Naver-Client-Id' : CLIENT_ID,\n",
    "        'X-Naver-Client-Secret' : CLIENT_SECRET  \n",
    "    }\n",
    "    params = {'source': source, 'target': target, 'text' : txt}\n",
    "    response = requests.post(url,json.dumps(params),headers=headers)\n",
    "    return response.json()['message']['result']['translatedText']"
   ]
  },
  {
   "cell_type": "code",
   "execution_count": 19,
   "metadata": {},
   "outputs": [
    {
     "data": {
      "text/plain": [
       "'Data Science is fun.'"
      ]
     },
     "execution_count": 19,
     "metadata": {},
     "output_type": "execute_result"
    }
   ],
   "source": [
    "translate('데이터 사이언스는 재미있습니다.')"
   ]
  },
  {
   "cell_type": "code",
   "execution_count": 20,
   "metadata": {},
   "outputs": [
    {
     "data": {
      "text/html": [
       "<div>\n",
       "<style scoped>\n",
       "    .dataframe tbody tr th:only-of-type {\n",
       "        vertical-align: middle;\n",
       "    }\n",
       "\n",
       "    .dataframe tbody tr th {\n",
       "        vertical-align: top;\n",
       "    }\n",
       "\n",
       "    .dataframe thead th {\n",
       "        text-align: right;\n",
       "    }\n",
       "</style>\n",
       "<table border=\"1\" class=\"dataframe\">\n",
       "  <thead>\n",
       "    <tr style=\"text-align: right;\">\n",
       "      <th></th>\n",
       "      <th>id</th>\n",
       "      <th>title</th>\n",
       "    </tr>\n",
       "  </thead>\n",
       "  <tbody>\n",
       "    <tr>\n",
       "      <th>0</th>\n",
       "      <td>A</td>\n",
       "      <td>인공지능 스쿨 화이팅</td>\n",
       "    </tr>\n",
       "    <tr>\n",
       "      <th>1</th>\n",
       "      <td>B</td>\n",
       "      <td>데이터 크롤링</td>\n",
       "    </tr>\n",
       "  </tbody>\n",
       "</table>\n",
       "</div>"
      ],
      "text/plain": [
       "  id        title\n",
       "0  A  인공지능 스쿨 화이팅\n",
       "1  B      데이터 크롤링"
      ]
     },
     "execution_count": 20,
     "metadata": {},
     "output_type": "execute_result"
    }
   ],
   "source": [
    "df = pd.DataFrame({\n",
    "    'id' : list('AB'),\n",
    "    'title' : ['인공지능 스쿨 화이팅', '데이터 크롤링']\n",
    "})\n",
    "df"
   ]
  },
  {
   "cell_type": "code",
   "execution_count": 22,
   "metadata": {},
   "outputs": [
    {
     "data": {
      "text/html": [
       "<div>\n",
       "<style scoped>\n",
       "    .dataframe tbody tr th:only-of-type {\n",
       "        vertical-align: middle;\n",
       "    }\n",
       "\n",
       "    .dataframe tbody tr th {\n",
       "        vertical-align: top;\n",
       "    }\n",
       "\n",
       "    .dataframe thead th {\n",
       "        text-align: right;\n",
       "    }\n",
       "</style>\n",
       "<table border=\"1\" class=\"dataframe\">\n",
       "  <thead>\n",
       "    <tr style=\"text-align: right;\">\n",
       "      <th></th>\n",
       "      <th>id</th>\n",
       "      <th>title</th>\n",
       "      <th>en_title</th>\n",
       "    </tr>\n",
       "  </thead>\n",
       "  <tbody>\n",
       "    <tr>\n",
       "      <th>0</th>\n",
       "      <td>A</td>\n",
       "      <td>인공지능 스쿨 화이팅</td>\n",
       "      <td>AI school, fighting!</td>\n",
       "    </tr>\n",
       "    <tr>\n",
       "      <th>1</th>\n",
       "      <td>B</td>\n",
       "      <td>데이터 크롤링</td>\n",
       "      <td>Crawling data</td>\n",
       "    </tr>\n",
       "  </tbody>\n",
       "</table>\n",
       "</div>"
      ],
      "text/plain": [
       "  id        title              en_title\n",
       "0  A  인공지능 스쿨 화이팅  AI school, fighting!\n",
       "1  B      데이터 크롤링         Crawling data"
      ]
     },
     "execution_count": 22,
     "metadata": {},
     "output_type": "execute_result"
    }
   ],
   "source": [
    "df['en_title'] = df['title'].apply(translate)\n",
    "df"
   ]
  },
  {
   "cell_type": "code",
   "execution_count": 23,
   "metadata": {},
   "outputs": [],
   "source": [
    "df.to_excel('en_title.xlsx', index=False, encoding='utf-8-sig')"
   ]
  },
  {
   "cell_type": "markdown",
   "metadata": {},
   "source": [
    "%ls"
   ]
  },
  {
   "cell_type": "code",
   "execution_count": 25,
   "metadata": {},
   "outputs": [
    {
     "data": {
      "text/html": [
       "<div>\n",
       "<style scoped>\n",
       "    .dataframe tbody tr th:only-of-type {\n",
       "        vertical-align: middle;\n",
       "    }\n",
       "\n",
       "    .dataframe tbody tr th {\n",
       "        vertical-align: top;\n",
       "    }\n",
       "\n",
       "    .dataframe thead th {\n",
       "        text-align: right;\n",
       "    }\n",
       "</style>\n",
       "<table border=\"1\" class=\"dataframe\">\n",
       "  <thead>\n",
       "    <tr style=\"text-align: right;\">\n",
       "      <th></th>\n",
       "      <th>id</th>\n",
       "      <th>title</th>\n",
       "      <th>en_title</th>\n",
       "    </tr>\n",
       "  </thead>\n",
       "  <tbody>\n",
       "    <tr>\n",
       "      <th>0</th>\n",
       "      <td>A</td>\n",
       "      <td>인공지능 스쿨 화이팅</td>\n",
       "      <td>AI school, fighting!</td>\n",
       "    </tr>\n",
       "    <tr>\n",
       "      <th>1</th>\n",
       "      <td>B</td>\n",
       "      <td>데이터 크롤링</td>\n",
       "      <td>Crawling data</td>\n",
       "    </tr>\n",
       "  </tbody>\n",
       "</table>\n",
       "</div>"
      ],
      "text/plain": [
       "  id        title              en_title\n",
       "0  A  인공지능 스쿨 화이팅  AI school, fighting!\n",
       "1  B      데이터 크롤링         Crawling data"
      ]
     },
     "execution_count": 25,
     "metadata": {},
     "output_type": "execute_result"
    }
   ],
   "source": [
    "pd.read_excel('en_title.xlsx')"
   ]
  },
  {
   "cell_type": "markdown",
   "metadata": {
    "id": "gEKpR7ibYr4G"
   },
   "source": [
    "#### 2. 통합검색어 트렌드 api\n",
    "- 서비스 : `https://datalab.naver.com/keyword/trendSearch.naver`\n",
    "- 내 애플리케이션 > dss 애플리케이션 > API 설정 > 데이터랩(검색어 트렌드) 추가\n",
    "- 사용법 : `https://developers.naver.com/docs/serviceapi/datalab/search/search.md#통합-검색어-트렌드`"
   ]
  },
  {
   "cell_type": "code",
   "execution_count": 29,
   "metadata": {},
   "outputs": [
    {
     "name": "stdout",
     "output_type": "stream",
     "text": [
      "Variable        Type         Data/Info\n",
      "--------------------------------------\n",
      "CLIENT_ID       str          rKnn8JCrdCjlfVaBEJkr\n",
      "CLIENT_SECRET   str          dydlL7Tztv\n",
      "df              DataFrame      id        title        <...>크롤링         Crawling data\n",
      "en_txt          str          Webcrawling is fun.\n",
      "headers         dict         n=3\n",
      "json            module       <module 'json' from 'c:\\\\<...>\\lib\\\\json\\\\__init__.py'>\n",
      "ko_txt          str          웹크롤링은 재미있다.\n",
      "params          dict         n=3\n",
      "pd              module       <module 'pandas' from 'c:<...>es\\\\pandas\\\\__init__.py'>\n",
      "requests        module       <module 'requests' from '<...>\\\\requests\\\\__init__.py'>\n",
      "response        Response     <Response [200]>\n",
      "translate       function     <function translate at 0x0000021C4BDB4700>\n",
      "url             str          https://openapi.naver.com/v1/papago/n2mt\n"
     ]
    }
   ],
   "source": [
    "%whos #선언되어 있는 변수"
   ]
  },
  {
   "cell_type": "code",
   "execution_count": null,
   "metadata": {},
   "outputs": [],
   "source": [
    "%reset #임포트된거 전부 날림"
   ]
  },
  {
   "cell_type": "code",
   "execution_count": null,
   "metadata": {},
   "outputs": [],
   "source": []
  },
  {
   "cell_type": "code",
   "execution_count": null,
   "metadata": {},
   "outputs": [],
   "source": []
  },
  {
   "cell_type": "code",
   "execution_count": 26,
   "metadata": {},
   "outputs": [],
   "source": [
    "#1, API 문서 : URL"
   ]
  },
  {
   "cell_type": "code",
   "execution_count": 33,
   "metadata": {},
   "outputs": [],
   "source": [
    "url='https://openapi.naver.com/v1/datalab/search'\n",
    "params = {\n",
    "    'startDate' : '2018-01-01',\n",
    "    'endDate' : '2023-02-16',\n",
    "    'timeUnit' : 'month',\n",
    "    'keywordGroups' : [\n",
    "        {'groupName' : '트위터', 'keywords' : ['트위터', '트윗']},\n",
    "        {'groupName' : '페이스북', 'keywords' : ['페이스북', '페북']},\n",
    "        {'groupName' : '인스타그램', 'keywords' : ['인스타그램', '인스타']}    \n",
    "    ]\n",
    "}"
   ]
  },
  {
   "cell_type": "code",
   "execution_count": 34,
   "metadata": {},
   "outputs": [],
   "source": [
    "headers={\n",
    "    'Content-Type' : 'application/json',\n",
    "    'X-Naver-Client-Id' : CLIENT_ID,\n",
    "    'X-Naver-Client-Secret' : CLIENT_SECRET  \n",
    "}"
   ]
  },
  {
   "cell_type": "code",
   "execution_count": null,
   "metadata": {},
   "outputs": [],
   "source": []
  },
  {
   "cell_type": "code",
   "execution_count": 27,
   "metadata": {},
   "outputs": [],
   "source": [
    "# 2. request(URL) > response : json(str)"
   ]
  },
  {
   "cell_type": "code",
   "execution_count": 35,
   "metadata": {},
   "outputs": [
    {
     "data": {
      "text/plain": [
       "<Response [200]>"
      ]
     },
     "execution_count": 35,
     "metadata": {},
     "output_type": "execute_result"
    }
   ],
   "source": [
    "response = requests.post(url,json.dumps(params),headers=headers)\n",
    "response"
   ]
  },
  {
   "cell_type": "code",
   "execution_count": null,
   "metadata": {},
   "outputs": [],
   "source": []
  },
  {
   "cell_type": "code",
   "execution_count": null,
   "metadata": {},
   "outputs": [],
   "source": [
    "# 3. Json(str) > "
   ]
  },
  {
   "cell_type": "code",
   "execution_count": 36,
   "metadata": {},
   "outputs": [
    {
     "data": {
      "text/plain": [
       "list"
      ]
     },
     "execution_count": 36,
     "metadata": {},
     "output_type": "execute_result"
    }
   ],
   "source": [
    "results=response.json()['results']\n",
    "type(results)"
   ]
  },
  {
   "cell_type": "code",
   "execution_count": 38,
   "metadata": {},
   "outputs": [
    {
     "data": {
      "text/plain": [
       "{'title': '트위터',\n",
       " 'keywords': ['트위터', '트윗'],\n",
       " 'data': [{'period': '2018-01-01', 'ratio': 14.59502},\n",
       "  {'period': '2018-02-01', 'ratio': 13.0238},\n",
       "  {'period': '2018-03-01', 'ratio': 12.97953},\n",
       "  {'period': '2018-04-01', 'ratio': 12.82991},\n",
       "  {'period': '2018-05-01', 'ratio': 13.05391},\n",
       "  {'period': '2018-06-01', 'ratio': 13.34512},\n",
       "  {'period': '2018-07-01', 'ratio': 13.02773},\n",
       "  {'period': '2018-08-01', 'ratio': 13.45399},\n",
       "  {'period': '2018-09-01', 'ratio': 12.83755},\n",
       "  {'period': '2018-10-01', 'ratio': 13.05677},\n",
       "  {'period': '2018-11-01', 'ratio': 12.77338},\n",
       "  {'period': '2018-12-01', 'ratio': 12.86931},\n",
       "  {'period': '2019-01-01', 'ratio': 13.31172},\n",
       "  {'period': '2019-02-01', 'ratio': 11.74776},\n",
       "  {'period': '2019-03-01', 'ratio': 11.82313},\n",
       "  {'period': '2019-04-01', 'ratio': 12.32991},\n",
       "  {'period': '2019-05-01', 'ratio': 12.43771},\n",
       "  {'period': '2019-06-01', 'ratio': 13.29913},\n",
       "  {'period': '2019-07-01', 'ratio': 14.00593},\n",
       "  {'period': '2019-08-01', 'ratio': 14.208},\n",
       "  {'period': '2019-09-01', 'ratio': 14.00856},\n",
       "  {'period': '2019-10-01', 'ratio': 14.88466},\n",
       "  {'period': '2019-11-01', 'ratio': 14.352},\n",
       "  {'period': '2019-12-01', 'ratio': 14.36689},\n",
       "  {'period': '2020-01-01', 'ratio': 16.05722},\n",
       "  {'period': '2020-02-01', 'ratio': 15.71465},\n",
       "  {'period': '2020-03-01', 'ratio': 18.5669},\n",
       "  {'period': '2020-04-01', 'ratio': 18.29928},\n",
       "  {'period': '2020-05-01', 'ratio': 21.0523},\n",
       "  {'period': '2020-06-01', 'ratio': 19.27569},\n",
       "  {'period': '2020-07-01', 'ratio': 20.59297},\n",
       "  {'period': '2020-08-01', 'ratio': 19.3598},\n",
       "  {'period': '2020-09-01', 'ratio': 19.96801},\n",
       "  {'period': '2020-10-01', 'ratio': 20.88909},\n",
       "  {'period': '2020-11-01', 'ratio': 19.58926},\n",
       "  {'period': '2020-12-01', 'ratio': 21.54861},\n",
       "  {'period': '2021-01-01', 'ratio': 21.93972},\n",
       "  {'period': '2021-02-01', 'ratio': 20.09926},\n",
       "  {'period': '2021-03-01', 'ratio': 21.47994},\n",
       "  {'period': '2021-04-01', 'ratio': 22.94525},\n",
       "  {'period': '2021-05-01', 'ratio': 23.00813},\n",
       "  {'period': '2021-06-01', 'ratio': 22.19201},\n",
       "  {'period': '2021-07-01', 'ratio': 22.44472},\n",
       "  {'period': '2021-08-01', 'ratio': 23.87169},\n",
       "  {'period': '2021-09-01', 'ratio': 21.40248},\n",
       "  {'period': '2021-10-01', 'ratio': 22.49636},\n",
       "  {'period': '2021-11-01', 'ratio': 21.3438},\n",
       "  {'period': '2021-12-01', 'ratio': 21.55931},\n",
       "  {'period': '2022-01-01', 'ratio': 21.94339},\n",
       "  {'period': '2022-02-01', 'ratio': 22.43099},\n",
       "  {'period': '2022-03-01', 'ratio': 23.78266},\n",
       "  {'period': '2022-04-01', 'ratio': 23.83847},\n",
       "  {'period': '2022-05-01', 'ratio': 22.99363},\n",
       "  {'period': '2022-06-01', 'ratio': 23.2411},\n",
       "  {'period': '2022-07-01', 'ratio': 24.06197},\n",
       "  {'period': '2022-08-01', 'ratio': 25.72802},\n",
       "  {'period': '2022-09-01', 'ratio': 24.25256},\n",
       "  {'period': '2022-10-01', 'ratio': 27.11456},\n",
       "  {'period': '2022-11-01', 'ratio': 25.4193},\n",
       "  {'period': '2022-12-01', 'ratio': 25.55513},\n",
       "  {'period': '2023-01-01', 'ratio': 26.64944},\n",
       "  {'period': '2023-02-01', 'ratio': 13.56007}]}"
      ]
     },
     "execution_count": 38,
     "metadata": {},
     "output_type": "execute_result"
    }
   ],
   "source": [
    "#columns : period, ratio, title\n",
    "results[0]"
   ]
  },
  {
   "cell_type": "code",
   "execution_count": 41,
   "metadata": {},
   "outputs": [],
   "source": [
    "dfs = []\n",
    "for result in results :\n",
    "    df = pd.DataFrame(result['data'])\n",
    "    df['title'] = result['title']\n",
    "    dfs.append(df)"
   ]
  },
  {
   "cell_type": "code",
   "execution_count": 40,
   "metadata": {},
   "outputs": [
    {
     "data": {
      "text/plain": [
       "3"
      ]
     },
     "execution_count": 40,
     "metadata": {},
     "output_type": "execute_result"
    }
   ],
   "source": [
    "len(dfs)"
   ]
  },
  {
   "cell_type": "code",
   "execution_count": 44,
   "metadata": {},
   "outputs": [
    {
     "data": {
      "text/html": [
       "<div>\n",
       "<style scoped>\n",
       "    .dataframe tbody tr th:only-of-type {\n",
       "        vertical-align: middle;\n",
       "    }\n",
       "\n",
       "    .dataframe tbody tr th {\n",
       "        vertical-align: top;\n",
       "    }\n",
       "\n",
       "    .dataframe thead th {\n",
       "        text-align: right;\n",
       "    }\n",
       "</style>\n",
       "<table border=\"1\" class=\"dataframe\">\n",
       "  <thead>\n",
       "    <tr style=\"text-align: right;\">\n",
       "      <th></th>\n",
       "      <th>period</th>\n",
       "      <th>ratio</th>\n",
       "      <th>title</th>\n",
       "    </tr>\n",
       "  </thead>\n",
       "  <tbody>\n",
       "    <tr>\n",
       "      <th>0</th>\n",
       "      <td>2018-01-01</td>\n",
       "      <td>14.59502</td>\n",
       "      <td>트위터</td>\n",
       "    </tr>\n",
       "    <tr>\n",
       "      <th>1</th>\n",
       "      <td>2018-02-01</td>\n",
       "      <td>13.02380</td>\n",
       "      <td>트위터</td>\n",
       "    </tr>\n",
       "    <tr>\n",
       "      <th>2</th>\n",
       "      <td>2018-03-01</td>\n",
       "      <td>12.97953</td>\n",
       "      <td>트위터</td>\n",
       "    </tr>\n",
       "    <tr>\n",
       "      <th>3</th>\n",
       "      <td>2018-04-01</td>\n",
       "      <td>12.82991</td>\n",
       "      <td>트위터</td>\n",
       "    </tr>\n",
       "    <tr>\n",
       "      <th>4</th>\n",
       "      <td>2018-05-01</td>\n",
       "      <td>13.05391</td>\n",
       "      <td>트위터</td>\n",
       "    </tr>\n",
       "    <tr>\n",
       "      <th>...</th>\n",
       "      <td>...</td>\n",
       "      <td>...</td>\n",
       "      <td>...</td>\n",
       "    </tr>\n",
       "    <tr>\n",
       "      <th>181</th>\n",
       "      <td>2022-10-01</td>\n",
       "      <td>23.38901</td>\n",
       "      <td>인스타그램</td>\n",
       "    </tr>\n",
       "    <tr>\n",
       "      <th>182</th>\n",
       "      <td>2022-11-01</td>\n",
       "      <td>21.51581</td>\n",
       "      <td>인스타그램</td>\n",
       "    </tr>\n",
       "    <tr>\n",
       "      <th>183</th>\n",
       "      <td>2022-12-01</td>\n",
       "      <td>20.33907</td>\n",
       "      <td>인스타그램</td>\n",
       "    </tr>\n",
       "    <tr>\n",
       "      <th>184</th>\n",
       "      <td>2023-01-01</td>\n",
       "      <td>20.30135</td>\n",
       "      <td>인스타그램</td>\n",
       "    </tr>\n",
       "    <tr>\n",
       "      <th>185</th>\n",
       "      <td>2023-02-01</td>\n",
       "      <td>10.55313</td>\n",
       "      <td>인스타그램</td>\n",
       "    </tr>\n",
       "  </tbody>\n",
       "</table>\n",
       "<p>186 rows × 3 columns</p>\n",
       "</div>"
      ],
      "text/plain": [
       "         period     ratio  title\n",
       "0    2018-01-01  14.59502    트위터\n",
       "1    2018-02-01  13.02380    트위터\n",
       "2    2018-03-01  12.97953    트위터\n",
       "3    2018-04-01  12.82991    트위터\n",
       "4    2018-05-01  13.05391    트위터\n",
       "..          ...       ...    ...\n",
       "181  2022-10-01  23.38901  인스타그램\n",
       "182  2022-11-01  21.51581  인스타그램\n",
       "183  2022-12-01  20.33907  인스타그램\n",
       "184  2023-01-01  20.30135  인스타그램\n",
       "185  2023-02-01  10.55313  인스타그램\n",
       "\n",
       "[186 rows x 3 columns]"
      ]
     },
     "execution_count": 44,
     "metadata": {},
     "output_type": "execute_result"
    }
   ],
   "source": [
    "result_df=pd.concat(dfs, ignore_index=True)\n",
    "result_df"
   ]
  },
  {
   "cell_type": "code",
   "execution_count": 42,
   "metadata": {},
   "outputs": [
    {
     "data": {
      "text/html": [
       "<div>\n",
       "<style scoped>\n",
       "    .dataframe tbody tr th:only-of-type {\n",
       "        vertical-align: middle;\n",
       "    }\n",
       "\n",
       "    .dataframe tbody tr th {\n",
       "        vertical-align: top;\n",
       "    }\n",
       "\n",
       "    .dataframe thead th {\n",
       "        text-align: right;\n",
       "    }\n",
       "</style>\n",
       "<table border=\"1\" class=\"dataframe\">\n",
       "  <thead>\n",
       "    <tr style=\"text-align: right;\">\n",
       "      <th></th>\n",
       "      <th>period</th>\n",
       "      <th>ratio</th>\n",
       "      <th>title</th>\n",
       "    </tr>\n",
       "  </thead>\n",
       "  <tbody>\n",
       "    <tr>\n",
       "      <th>0</th>\n",
       "      <td>2018-01-01</td>\n",
       "      <td>14.59502</td>\n",
       "      <td>트위터</td>\n",
       "    </tr>\n",
       "    <tr>\n",
       "      <th>1</th>\n",
       "      <td>2018-02-01</td>\n",
       "      <td>13.02380</td>\n",
       "      <td>트위터</td>\n",
       "    </tr>\n",
       "    <tr>\n",
       "      <th>2</th>\n",
       "      <td>2018-03-01</td>\n",
       "      <td>12.97953</td>\n",
       "      <td>트위터</td>\n",
       "    </tr>\n",
       "    <tr>\n",
       "      <th>3</th>\n",
       "      <td>2018-04-01</td>\n",
       "      <td>12.82991</td>\n",
       "      <td>트위터</td>\n",
       "    </tr>\n",
       "    <tr>\n",
       "      <th>4</th>\n",
       "      <td>2018-05-01</td>\n",
       "      <td>13.05391</td>\n",
       "      <td>트위터</td>\n",
       "    </tr>\n",
       "    <tr>\n",
       "      <th>...</th>\n",
       "      <td>...</td>\n",
       "      <td>...</td>\n",
       "      <td>...</td>\n",
       "    </tr>\n",
       "    <tr>\n",
       "      <th>57</th>\n",
       "      <td>2022-10-01</td>\n",
       "      <td>27.11456</td>\n",
       "      <td>트위터</td>\n",
       "    </tr>\n",
       "    <tr>\n",
       "      <th>58</th>\n",
       "      <td>2022-11-01</td>\n",
       "      <td>25.41930</td>\n",
       "      <td>트위터</td>\n",
       "    </tr>\n",
       "    <tr>\n",
       "      <th>59</th>\n",
       "      <td>2022-12-01</td>\n",
       "      <td>25.55513</td>\n",
       "      <td>트위터</td>\n",
       "    </tr>\n",
       "    <tr>\n",
       "      <th>60</th>\n",
       "      <td>2023-01-01</td>\n",
       "      <td>26.64944</td>\n",
       "      <td>트위터</td>\n",
       "    </tr>\n",
       "    <tr>\n",
       "      <th>61</th>\n",
       "      <td>2023-02-01</td>\n",
       "      <td>13.56007</td>\n",
       "      <td>트위터</td>\n",
       "    </tr>\n",
       "  </tbody>\n",
       "</table>\n",
       "<p>62 rows × 3 columns</p>\n",
       "</div>"
      ],
      "text/plain": [
       "        period     ratio title\n",
       "0   2018-01-01  14.59502   트위터\n",
       "1   2018-02-01  13.02380   트위터\n",
       "2   2018-03-01  12.97953   트위터\n",
       "3   2018-04-01  12.82991   트위터\n",
       "4   2018-05-01  13.05391   트위터\n",
       "..         ...       ...   ...\n",
       "57  2022-10-01  27.11456   트위터\n",
       "58  2022-11-01  25.41930   트위터\n",
       "59  2022-12-01  25.55513   트위터\n",
       "60  2023-01-01  26.64944   트위터\n",
       "61  2023-02-01  13.56007   트위터\n",
       "\n",
       "[62 rows x 3 columns]"
      ]
     },
     "execution_count": 42,
     "metadata": {},
     "output_type": "execute_result"
    }
   ],
   "source": [
    "dfs[0]"
   ]
  },
  {
   "cell_type": "code",
   "execution_count": 45,
   "metadata": {},
   "outputs": [],
   "source": [
    "#column : title(twitter, facebook, instargram)\n",
    "#index : period\n",
    "#value : ratio"
   ]
  },
  {
   "cell_type": "code",
   "execution_count": 46,
   "metadata": {},
   "outputs": [
    {
     "data": {
      "text/html": [
       "<div>\n",
       "<style scoped>\n",
       "    .dataframe tbody tr th:only-of-type {\n",
       "        vertical-align: middle;\n",
       "    }\n",
       "\n",
       "    .dataframe tbody tr th {\n",
       "        vertical-align: top;\n",
       "    }\n",
       "\n",
       "    .dataframe thead th {\n",
       "        text-align: right;\n",
       "    }\n",
       "</style>\n",
       "<table border=\"1\" class=\"dataframe\">\n",
       "  <thead>\n",
       "    <tr style=\"text-align: right;\">\n",
       "      <th>title</th>\n",
       "      <th>인스타그램</th>\n",
       "      <th>트위터</th>\n",
       "      <th>페이스북</th>\n",
       "    </tr>\n",
       "    <tr>\n",
       "      <th>period</th>\n",
       "      <th></th>\n",
       "      <th></th>\n",
       "      <th></th>\n",
       "    </tr>\n",
       "  </thead>\n",
       "  <tbody>\n",
       "    <tr>\n",
       "      <th>2018-01-01</th>\n",
       "      <td>23.41982</td>\n",
       "      <td>14.59502</td>\n",
       "      <td>97.80481</td>\n",
       "    </tr>\n",
       "    <tr>\n",
       "      <th>2018-02-01</th>\n",
       "      <td>22.53544</td>\n",
       "      <td>13.02380</td>\n",
       "      <td>89.05814</td>\n",
       "    </tr>\n",
       "    <tr>\n",
       "      <th>2018-03-01</th>\n",
       "      <td>25.39880</td>\n",
       "      <td>12.97953</td>\n",
       "      <td>98.84292</td>\n",
       "    </tr>\n",
       "    <tr>\n",
       "      <th>2018-04-01</th>\n",
       "      <td>26.55983</td>\n",
       "      <td>12.82991</td>\n",
       "      <td>100.00000</td>\n",
       "    </tr>\n",
       "    <tr>\n",
       "      <th>2018-05-01</th>\n",
       "      <td>28.60035</td>\n",
       "      <td>13.05391</td>\n",
       "      <td>92.23588</td>\n",
       "    </tr>\n",
       "    <tr>\n",
       "      <th>...</th>\n",
       "      <td>...</td>\n",
       "      <td>...</td>\n",
       "      <td>...</td>\n",
       "    </tr>\n",
       "    <tr>\n",
       "      <th>2022-10-01</th>\n",
       "      <td>23.38901</td>\n",
       "      <td>27.11456</td>\n",
       "      <td>16.73444</td>\n",
       "    </tr>\n",
       "    <tr>\n",
       "      <th>2022-11-01</th>\n",
       "      <td>21.51581</td>\n",
       "      <td>25.41930</td>\n",
       "      <td>15.12064</td>\n",
       "    </tr>\n",
       "    <tr>\n",
       "      <th>2022-12-01</th>\n",
       "      <td>20.33907</td>\n",
       "      <td>25.55513</td>\n",
       "      <td>14.72503</td>\n",
       "    </tr>\n",
       "    <tr>\n",
       "      <th>2023-01-01</th>\n",
       "      <td>20.30135</td>\n",
       "      <td>26.64944</td>\n",
       "      <td>14.87866</td>\n",
       "    </tr>\n",
       "    <tr>\n",
       "      <th>2023-02-01</th>\n",
       "      <td>10.55313</td>\n",
       "      <td>13.56007</td>\n",
       "      <td>7.00545</td>\n",
       "    </tr>\n",
       "  </tbody>\n",
       "</table>\n",
       "<p>62 rows × 3 columns</p>\n",
       "</div>"
      ],
      "text/plain": [
       "title          인스타그램       트위터       페이스북\n",
       "period                                   \n",
       "2018-01-01  23.41982  14.59502   97.80481\n",
       "2018-02-01  22.53544  13.02380   89.05814\n",
       "2018-03-01  25.39880  12.97953   98.84292\n",
       "2018-04-01  26.55983  12.82991  100.00000\n",
       "2018-05-01  28.60035  13.05391   92.23588\n",
       "...              ...       ...        ...\n",
       "2022-10-01  23.38901  27.11456   16.73444\n",
       "2022-11-01  21.51581  25.41930   15.12064\n",
       "2022-12-01  20.33907  25.55513   14.72503\n",
       "2023-01-01  20.30135  26.64944   14.87866\n",
       "2023-02-01  10.55313  13.56007    7.00545\n",
       "\n",
       "[62 rows x 3 columns]"
      ]
     },
     "execution_count": 46,
     "metadata": {},
     "output_type": "execute_result"
    }
   ],
   "source": [
    "pivot_df=result_df.pivot('period','title','ratio')\n",
    "pivot_df"
   ]
  },
  {
   "cell_type": "code",
   "execution_count": null,
   "metadata": {},
   "outputs": [],
   "source": [
    "#update : 데이터선택 = 수정할 데이터"
   ]
  },
  {
   "cell_type": "code",
   "execution_count": 48,
   "metadata": {},
   "outputs": [],
   "source": [
    "pivot_df.columns = ['instargram', 'twitter', 'facebook']"
   ]
  },
  {
   "cell_type": "code",
   "execution_count": null,
   "metadata": {},
   "outputs": [
    {
     "data": {
      "text/html": [
       "<div>\n",
       "<style scoped>\n",
       "    .dataframe tbody tr th:only-of-type {\n",
       "        vertical-align: middle;\n",
       "    }\n",
       "\n",
       "    .dataframe tbody tr th {\n",
       "        vertical-align: top;\n",
       "    }\n",
       "\n",
       "    .dataframe thead th {\n",
       "        text-align: right;\n",
       "    }\n",
       "</style>\n",
       "<table border=\"1\" class=\"dataframe\">\n",
       "  <thead>\n",
       "    <tr style=\"text-align: right;\">\n",
       "      <th></th>\n",
       "      <th>instargram</th>\n",
       "      <th>twitter</th>\n",
       "      <th>facebook</th>\n",
       "    </tr>\n",
       "    <tr>\n",
       "      <th>period</th>\n",
       "      <th></th>\n",
       "      <th></th>\n",
       "      <th></th>\n",
       "    </tr>\n",
       "  </thead>\n",
       "  <tbody>\n",
       "    <tr>\n",
       "      <th>2022-10-01</th>\n",
       "      <td>23.38901</td>\n",
       "      <td>27.11456</td>\n",
       "      <td>16.73444</td>\n",
       "    </tr>\n",
       "    <tr>\n",
       "      <th>2022-11-01</th>\n",
       "      <td>21.51581</td>\n",
       "      <td>25.41930</td>\n",
       "      <td>15.12064</td>\n",
       "    </tr>\n",
       "    <tr>\n",
       "      <th>2022-12-01</th>\n",
       "      <td>20.33907</td>\n",
       "      <td>25.55513</td>\n",
       "      <td>14.72503</td>\n",
       "    </tr>\n",
       "    <tr>\n",
       "      <th>2023-01-01</th>\n",
       "      <td>20.30135</td>\n",
       "      <td>26.64944</td>\n",
       "      <td>14.87866</td>\n",
       "    </tr>\n",
       "    <tr>\n",
       "      <th>2023-02-01</th>\n",
       "      <td>10.55313</td>\n",
       "      <td>13.56007</td>\n",
       "      <td>7.00545</td>\n",
       "    </tr>\n",
       "  </tbody>\n",
       "</table>\n",
       "</div>"
      ],
      "text/plain": [
       "            instargram   twitter  facebook\n",
       "period                                    \n",
       "2022-10-01    23.38901  27.11456  16.73444\n",
       "2022-11-01    21.51581  25.41930  15.12064\n",
       "2022-12-01    20.33907  25.55513  14.72503\n",
       "2023-01-01    20.30135  26.64944  14.87866\n",
       "2023-02-01    10.55313  13.56007   7.00545"
      ]
     },
     "execution_count": 49,
     "metadata": {},
     "output_type": "execute_result"
    }
   ],
   "source": [
    "pivot_df.tail()"
   ]
  },
  {
   "cell_type": "code",
   "execution_count": 50,
   "metadata": {},
   "outputs": [],
   "source": [
    "import matplotlib.pyplot as plt"
   ]
  },
  {
   "cell_type": "code",
   "execution_count": 53,
   "metadata": {},
   "outputs": [],
   "source": [
    "%config InlineBackend.figure_formats={'png', 'retina'} #그래프 화질을 더 좋게 만드는 스페셜 커멘드"
   ]
  },
  {
   "cell_type": "code",
   "execution_count": 54,
   "metadata": {},
   "outputs": [
    {
     "data": {
      "image/png": "[encoded data removed]",
      "text/plain": [
       "<Figure size 2000x500 with 1 Axes>"
      ]
     },
     "metadata": {
      "image/png": {
       "height": 448,
       "width": 1606
      }
     },
     "output_type": "display_data"
    }
   ],
   "source": [
    "pivot_df.plot(figsize=(20,5))\n",
    "plt.show()"
   ]
  }
 ],
 "metadata": {
  "colab": {
   "name": "03_naver_api.ipynb",
   "provenance": []
  },
  "kernelspec": {
   "display_name": "base",
   "language": "python",
   "name": "python3"
  },
  "language_info": {
   "codemirror_mode": {
    "name": "ipython",
    "version": 3
   },
   "file_extension": ".py",
   "mimetype": "text/x-python",
   "name": "python",
   "nbconvert_exporter": "python",
   "pygments_lexer": "ipython3",
   "version": "3.9.13"
  },
  "toc": {
   "base_numbering": 1,
   "nav_menu": {},
   "number_sections": false,
   "sideBar": true,
   "skip_h1_title": false,
   "title_cell": "Table of Contents",
   "title_sidebar": "Contents",
   "toc_cell": false,
   "toc_position": {},
   "toc_section_display": true,
   "toc_window_display": false
  },
  "vscode": {
   "interpreter": {
    "hash": "f08154012ddadd8e950e6e9e035c7a7b32c136e7647e9b7c77e02eb723a8bedb"
   }
  }
 },
 "nbformat": 4,
 "nbformat_minor": 1
}
